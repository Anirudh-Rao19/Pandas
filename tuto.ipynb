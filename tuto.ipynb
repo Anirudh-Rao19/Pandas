{
 "cells": [
  {
   "cell_type": "code",
   "execution_count": null,
   "id": "c003688b",
   "metadata": {},
   "outputs": [],
   "source": [
    "import pandas as pd\n",
    "df= pd.DataFrame([[1,2,3],[4,5,6],[7,8,9]])\n",
    "df.head()"
   ]
  },
  {
   "cell_type": "code",
   "execution_count": null,
   "id": "2baf915b",
   "metadata": {},
   "outputs": [],
   "source": [
    "print(bios.columns)"
   ]
  },
  {
   "cell_type": "code",
   "execution_count": null,
   "id": "0a6c0502",
   "metadata": {},
   "outputs": [],
   "source": [
    "import pandas as pd\n",
    "df= pd.DataFrame([[1,2,3],[4,5,6],[7,8,9]], columns=[\"A\",\"B\",\"C\"])\n",
    "print(df.head())\n",
    "print(df.values)\n",
    "print(df.columns)\n",
    "print(df.index)"
   ]
  },
  {
   "cell_type": "code",
   "execution_count": null,
   "id": "ceb8047a",
   "metadata": {},
   "outputs": [],
   "source": [
    "print(df.tail(1))\n",
    "\n",
    "print(df.head(1))\n",
    "\n",
    "print(df.tail(2))"
   ]
  },
  {
   "cell_type": "code",
   "execution_count": null,
   "id": "897798c5",
   "metadata": {},
   "outputs": [],
   "source": [
    "df.index.tolist()"
   ]
  },
  {
   "cell_type": "code",
   "execution_count": null,
   "id": "1d16fa81",
   "metadata": {},
   "outputs": [],
   "source": [
    "df= pd.DataFrame([[1,2,3],[4,5,6],[7,8,9]], columns=[\"A\",\"B\",\"C\"], index=[\"x\",\"y\",\"z\"])\n",
    "df"
   ]
  },
  {
   "cell_type": "code",
   "execution_count": null,
   "id": "98536480",
   "metadata": {},
   "outputs": [],
   "source": [
    "print(df.info())\n",
    "print(\"*********************DESCRIBE********************\")\n",
    "print(df.describe())\n",
    "print(\"****************UNIQuE*****************\")\n",
    "print(df.nunique())\n",
    "print(\"****************UNIDQE PERTICULAR*****************\")\n",
    "print(df['A'].unique())\n",
    "print(\"****************shape*****************\")\n",
    "print(df.shape)\n",
    "print(\"****************size*****************\")\n",
    "print(df.size)"
   ]
  },
  {
   "cell_type": "code",
   "execution_count": null,
   "id": "26bbdc96",
   "metadata": {},
   "outputs": [],
   "source": [
    "coffee=pd.read_csv('./warmup-data/coffee.csv')\n",
    "coffee.head()"
   ]
  },
  {
   "cell_type": "code",
   "execution_count": null,
   "id": "61c3e8d2",
   "metadata": {},
   "outputs": [],
   "source": [
    "results=pd.read_parquet('./warmup-data/results.parquet')\n",
    "bios=pd.read_csv(',/warmup-data/bios.csv')"
   ]
  }
 ],
 "metadata": {
  "kernelspec": {
   "display_name": ".venv (3.13.5)",
   "language": "python",
   "name": "python3"
  },
  "language_info": {
   "codemirror_mode": {
    "name": "ipython",
    "version": 3
   },
   "file_extension": ".py",
   "mimetype": "text/x-python",
   "name": "python",
   "nbconvert_exporter": "python",
   "pygments_lexer": "ipython3",
   "version": "3.13.5"
  }
 },
 "nbformat": 4,
 "nbformat_minor": 5
}
